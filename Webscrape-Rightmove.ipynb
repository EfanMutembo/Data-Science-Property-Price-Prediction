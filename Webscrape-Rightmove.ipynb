{
 "cells": [
  {
   "cell_type": "markdown",
   "id": "74aab9b0",
   "metadata": {},
   "source": [
    "# Webscrape Righmove\n",
    "Goal: Collect data on all the listings in nottingham and create a color coordinated map of rent accross the city\n"
   ]
  },
  {
   "cell_type": "code",
   "execution_count": 1,
   "id": "37d7d3c4",
   "metadata": {},
   "outputs": [],
   "source": [
    "#Import Libraries\n",
    "from bs4 import BeautifulSoup\n",
    "\n",
    "from selenium import webdriver\n",
    "from selenium.webdriver.chrome.service import Service\n",
    "from webdriver_manager.chrome import ChromeDriverManager\n",
    "from selenium.webdriver.common.by import By\n",
    "\n",
    "import pandas as pd\n",
    "import time\n",
    "\n",
    "from selenium.webdriver.support.ui import Select\n",
    "from selenium.webdriver.support.ui import WebDriverWait\n",
    "from selenium.webdriver.support import expected_conditions as EC\n",
    "\n",
    "from selenium.webdriver.common.keys import Keys"
   ]
  },
  {
   "cell_type": "code",
   "execution_count": 3,
   "id": "fafb538a",
   "metadata": {},
   "outputs": [
    {
     "name": "stderr",
     "output_type": "stream",
     "text": [
      "[WDM] - Downloading: 100%|████████████████████████████████████████████████████████| 6.78M/6.78M [00:01<00:00, 6.37MB/s]\n"
     ]
    }
   ],
   "source": [
    "#open url\n",
    "url = 'https://www.rightmove.co.uk/'\n",
    "#create driver\n",
    "driver = webdriver.Chrome(service=Service(ChromeDriverManager().install()))\n",
    "driver.get(url)\n",
    "\n",
    "#Allow Cookies\n",
    "driver.find_element(By.XPATH,\"/html/body/div[1]/div[2]/div[4]/div[2]/div/button\").send_keys(Keys.ENTER)"
   ]
  },
  {
   "cell_type": "code",
   "execution_count": 4,
   "id": "e43bd547",
   "metadata": {},
   "outputs": [],
   "source": [
    "# navigate to houses in nottingham\n",
    "city = 'Nottingham'\n",
    "driver.find_element(By.NAME,\"typeAheadInputField\").send_keys(city,Keys.RETURN)"
   ]
  },
  {
   "cell_type": "markdown",
   "id": "6da6be2c",
   "metadata": {},
   "source": [
    "### Logic and Understanding\n",
    "\n",
    "I want data on all houses/flats for sale \n",
    "\n",
    "I want to scrape the data change page and repeat"
   ]
  },
  {
   "cell_type": "code",
   "execution_count": 5,
   "id": "f515bcd5",
   "metadata": {},
   "outputs": [],
   "source": [
    "#find properties btn\n",
    "driver.find_element(By.CSS_SELECTOR,'button.touchsearch-button.touchsearch-primarybutton').click()"
   ]
  },
  {
   "cell_type": "markdown",
   "id": "99017fd7",
   "metadata": {},
   "source": [
    "**The logic works !!!**\n",
    "- Change the page then use driver.page_source to download the source code"
   ]
  },
  {
   "cell_type": "markdown",
   "id": "97b96b61",
   "metadata": {},
   "source": [
    "### 1. Scrape the html from every page\n",
    "- Dynamic Webscraping\n"
   ]
  },
  {
   "cell_type": "code",
   "execution_count": 5,
   "id": "e34297a2",
   "metadata": {},
   "outputs": [],
   "source": [
    "#build logic\n",
    "\n",
    "#Get Number of pages\n",
    "total_pages = driver.find_element(By.XPATH,'//*[@id=\"l-container\"]/div[3]/div/div/div/div[2]/span[3]').text\n",
    "\n",
    "broth = []\n",
    "\n",
    "for i in range(0,int(total_pages)):    \n",
    "    \n",
    "    time.sleep(1)\n",
    "    \n",
    "    #get html\n",
    "    page_i = driver.page_source\n",
    "    \n",
    "    #create soup (turn html into a parsable text)\n",
    "    soup = BeautifulSoup(page_i, 'html.parser')\n",
    "    broth.append(soup)\n",
    "    \n",
    "    #explicit wait -  wait for the next page to load\n",
    "    wait =  WebDriverWait(driver,10)\n",
    "    wait.until(EC.visibility_of_element_located((By.CSS_SELECTOR,'button.pagination-button.pagination-direction.pagination-direction--next')))\n",
    "    \n",
    "    #click next page btn\n",
    "    driver.find_element(By.CSS_SELECTOR,'button.pagination-button.pagination-direction.pagination-direction--next').click()\n",
    "    \n",
    "    #repeat"
   ]
  },
  {
   "cell_type": "markdown",
   "id": "f9fb22d3",
   "metadata": {},
   "source": [
    "#### Confirm it works"
   ]
  },
  {
   "cell_type": "code",
   "execution_count": 6,
   "id": "ca3d89f0",
   "metadata": {
    "scrolled": true
   },
   "outputs": [
    {
     "data": {
      "text/plain": [
       "42"
      ]
     },
     "execution_count": 6,
     "metadata": {},
     "output_type": "execute_result"
    }
   ],
   "source": [
    "len(broth)"
   ]
  },
  {
   "cell_type": "markdown",
   "id": "0cc53c04",
   "metadata": {},
   "source": [
    "Have we scraped them all?\n",
    "\n",
    "- There is approx 25 listing on each page and 42 pages so we are expecting 1050 listings. **Confirmed**"
   ]
  },
  {
   "cell_type": "code",
   "execution_count": 7,
   "id": "cbc3d522",
   "metadata": {},
   "outputs": [
    {
     "data": {
      "text/plain": [
       "1050"
      ]
     },
     "execution_count": 7,
     "metadata": {},
     "output_type": "execute_result"
    }
   ],
   "source": [
    "addresses = [x.text for i in broth for x in i.find_all('address') ]\n",
    "len(addresses)"
   ]
  },
  {
   "cell_type": "markdown",
   "id": "dd12e519",
   "metadata": {},
   "source": [
    "#### To do next\n",
    "- Create a table and impute the data\n",
    "- Scrape the price data\n",
    "\n",
    "Bonus\n",
    "- Find extra features of houses we can use\n",
    "\n",
    ". Bathroom / Bedrooms"
   ]
  },
  {
   "cell_type": "code",
   "execution_count": 8,
   "id": "f1f4ef4c",
   "metadata": {},
   "outputs": [],
   "source": [
    "import pandas as pd\n",
    "import matplotlib.pyplot as plt"
   ]
  },
  {
   "cell_type": "code",
   "execution_count": 9,
   "id": "fa78e57b",
   "metadata": {},
   "outputs": [],
   "source": [
    "table = pd.DataFrame(columns = ['Address'],data = addresses)"
   ]
  },
  {
   "cell_type": "code",
   "execution_count": 10,
   "id": "6d9cefc6",
   "metadata": {},
   "outputs": [
    {
     "data": {
      "text/html": [
       "<div>\n",
       "<style scoped>\n",
       "    .dataframe tbody tr th:only-of-type {\n",
       "        vertical-align: middle;\n",
       "    }\n",
       "\n",
       "    .dataframe tbody tr th {\n",
       "        vertical-align: top;\n",
       "    }\n",
       "\n",
       "    .dataframe thead th {\n",
       "        text-align: right;\n",
       "    }\n",
       "</style>\n",
       "<table border=\"1\" class=\"dataframe\">\n",
       "  <thead>\n",
       "    <tr style=\"text-align: right;\">\n",
       "      <th></th>\n",
       "      <th>Address</th>\n",
       "    </tr>\n",
       "  </thead>\n",
       "  <tbody>\n",
       "    <tr>\n",
       "      <th>0</th>\n",
       "      <td>Upper Parliament Street, Nottingham, NG1 2AP</td>\n",
       "    </tr>\n",
       "    <tr>\n",
       "      <th>1</th>\n",
       "      <td>STUDENT PROPERTY NOTTINGHAM CITY CENTER</td>\n",
       "    </tr>\n",
       "    <tr>\n",
       "      <th>2</th>\n",
       "      <td>Fairmont, Edwalton</td>\n",
       "    </tr>\n",
       "    <tr>\n",
       "      <th>3</th>\n",
       "      <td>Fairmont, Edwalton</td>\n",
       "    </tr>\n",
       "    <tr>\n",
       "      <th>4</th>\n",
       "      <td>North Sherwood street, Nottingham</td>\n",
       "    </tr>\n",
       "  </tbody>\n",
       "</table>\n",
       "</div>"
      ],
      "text/plain": [
       "                                        Address\n",
       "0  Upper Parliament Street, Nottingham, NG1 2AP\n",
       "1       STUDENT PROPERTY NOTTINGHAM CITY CENTER\n",
       "2                            Fairmont, Edwalton\n",
       "3                            Fairmont, Edwalton\n",
       "4             North Sherwood street, Nottingham"
      ]
     },
     "execution_count": 10,
     "metadata": {},
     "output_type": "execute_result"
    }
   ],
   "source": [
    "table.head()"
   ]
  },
  {
   "cell_type": "markdown",
   "id": "1ac959c1",
   "metadata": {},
   "source": [
    "II . Scrape price data"
   ]
  },
  {
   "cell_type": "code",
   "execution_count": 47,
   "id": "38b8459e",
   "metadata": {
    "scrolled": true
   },
   "outputs": [],
   "source": [
    "#format the guide price\n",
    "guide_prices_str = [x.text  for i in broth for x in i.find_all('div',{'class':'propertyCard-priceValue'})  ]\n",
    "pp1 = [i.replace('£','') for i in guide_prices_str]\n",
    "guide_prices = [i.replace(',','') for i in pp1]\n",
    "table['guide_price'] = guide_prices\n",
    "\n",
    "#sort out POA values\n",
    "table[table['guide_price']=='POA'] = np.nan\n",
    "table['guide_price'] = table['guide_price'].astype(float)"
   ]
  },
  {
   "cell_type": "markdown",
   "id": "3c8e985b",
   "metadata": {},
   "source": [
    "Quick insight break"
   ]
  },
  {
   "cell_type": "code",
   "execution_count": 12,
   "id": "0f32cbf6",
   "metadata": {},
   "outputs": [],
   "source": [
    "import matplotlib.ticker as ticker\n",
    "import numpy as np"
   ]
  },
  {
   "cell_type": "code",
   "execution_count": 41,
   "id": "58eb4516",
   "metadata": {},
   "outputs": [
    {
     "data": {
      "text/plain": [
       "Address        object\n",
       "guide_price     int32\n",
       "dtype: object"
      ]
     },
     "execution_count": 41,
     "metadata": {},
     "output_type": "execute_result"
    }
   ],
   "source": [
    "#Change guide price to int\n",
    "temp_df = table.drop(table[table['guide_price']=='POA'].index)\n",
    "temp_df['guide_price'] = temp_df['guide_price'].astype(int)\n",
    "temp_df.dtypes"
   ]
  },
  {
   "cell_type": "code",
   "execution_count": 14,
   "id": "390a2274",
   "metadata": {
    "scrolled": true
   },
   "outputs": [],
   "source": [
    "temp_df['guide_price_log'] = np.log(temp_df['guide_price'])\n"
   ]
  },
  {
   "cell_type": "code",
   "execution_count": 15,
   "id": "dbb05ee8",
   "metadata": {},
   "outputs": [
    {
     "data": {
      "text/plain": [
       "Text(0.5, 1.0, 'Index vs Guide Price')"
      ]
     },
     "execution_count": 15,
     "metadata": {},
     "output_type": "execute_result"
    },
    {
     "data": {
      "image/png": "[encoded data removed]",
      "text/plain": [
       "<Figure size 720x576 with 1 Axes>"
      ]
     },
     "metadata": {
      "needs_background": "light"
     },
     "output_type": "display_data"
    }
   ],
   "source": [
    "fig = plt.figure(figsize=(10,8))\n",
    "\n",
    "plt.plot(temp_df.index,temp_df['guide_price_log'])\n",
    "\n",
    "#label\n",
    "plt.xlabel('Property Index')\n",
    "plt.ylabel('Property Price(Log)')\n",
    "plt.title('Index vs Guide Price')"
   ]
  },
  {
   "cell_type": "markdown",
   "id": "0e721cc4",
   "metadata": {},
   "source": [
    "**III**. Get number of Bathrooms and Bedrooms"
   ]
  },
  {
   "cell_type": "code",
   "execution_count": 16,
   "id": "04650882",
   "metadata": {},
   "outputs": [
    {
     "data": {
      "text/plain": [
       "'1 bathroom'"
      ]
     },
     "execution_count": 16,
     "metadata": {},
     "output_type": "execute_result"
    }
   ],
   "source": [
    "broth[0].select('.no-svg-bathroom-icon.bathroom-icon.seperator')[0].text"
   ]
  },
  {
   "cell_type": "markdown",
   "id": "786299e9",
   "metadata": {},
   "source": [
    "Problem encountered\n",
    "\n",
    "- There were some cards with missing values therefore we needed to know which ones were missing and learn how to use next child method\n",
    "\n",
    "*** To Do ***\n",
    "\n",
    "\n",
    "Gather data on \n",
    "- Bed\n",
    "- Bathroom\n",
    "- House type\n",
    "\n",
    "keep track of what values belong to which property"
   ]
  },
  {
   "cell_type": "markdown",
   "id": "d6e9d2bf",
   "metadata": {},
   "source": [
    "### 2. Scrape the features"
   ]
  },
  {
   "cell_type": "code",
   "execution_count": 32,
   "id": "a3951c32",
   "metadata": {},
   "outputs": [],
   "source": [
    "address = []\n",
    "house_type = []\n",
    "bedrooms = []\n",
    "bathrooms = []\n",
    "\n",
    "#create dataframe to hold the \n",
    "data = pd.DataFrame(columns = ['address','house_type','bedrooms','bathrooms'])\n",
    "\n",
    "for i,soup in enumerate(broth):\n",
    "    \n",
    "    #get the property info objects from each page\n",
    "    prop_info = soup.find_all('div',{'class':'property-information'})\n",
    "    \n",
    "    #Loop through each property info object and gater the addy + info\n",
    "    for x in prop_info:\n",
    "        \n",
    "        #go up one node to get the address\n",
    "        address.append(x.previous_sibling.text)\n",
    "        \n",
    "        #descend 1 node to get to the house type, number of bathrooms and beds\n",
    "        house_type.append(x.find_all('span')[0].text)\n",
    "        \n",
    "        \n",
    "        #When ther isnt a value for beds of bathrooms append a nan value\n",
    "        try:\n",
    "            bedrooms.append(x.find_all('span')[1].text[0])\n",
    "        except:\n",
    "            bedrooms.append(np.nan)\n",
    "            \n",
    "        try:\n",
    "            bathrooms.append(x.find_all('span')[2].text[0])\n",
    "        except:\n",
    "            bathrooms.append(np.nan)\n",
    "            \n",
    "# add data to dataframe\n",
    "\n",
    "data['address'],data['house_type'],data['bedrooms'],data['bathrooms']=[address,house_type,bedrooms,bathrooms]"
   ]
  },
  {
   "cell_type": "code",
   "execution_count": 49,
   "id": "773a7e3a",
   "metadata": {
    "scrolled": true
   },
   "outputs": [
    {
     "data": {
      "text/html": [
       "<div>\n",
       "<style scoped>\n",
       "    .dataframe tbody tr th:only-of-type {\n",
       "        vertical-align: middle;\n",
       "    }\n",
       "\n",
       "    .dataframe tbody tr th {\n",
       "        vertical-align: top;\n",
       "    }\n",
       "\n",
       "    .dataframe thead th {\n",
       "        text-align: right;\n",
       "    }\n",
       "</style>\n",
       "<table border=\"1\" class=\"dataframe\">\n",
       "  <thead>\n",
       "    <tr style=\"text-align: right;\">\n",
       "      <th></th>\n",
       "      <th>address</th>\n",
       "      <th>house_type</th>\n",
       "      <th>bedrooms</th>\n",
       "      <th>bathrooms</th>\n",
       "      <th>guide_price</th>\n",
       "    </tr>\n",
       "  </thead>\n",
       "  <tbody>\n",
       "    <tr>\n",
       "      <th>0</th>\n",
       "      <td>Upper Parliament Street, Nottingham, NG1 2AP</td>\n",
       "      <td>Flat</td>\n",
       "      <td>1</td>\n",
       "      <td>1</td>\n",
       "      <td>75000.0</td>\n",
       "    </tr>\n",
       "    <tr>\n",
       "      <th>1</th>\n",
       "      <td>STUDENT PROPERTY NOTTINGHAM CITY CENTER</td>\n",
       "      <td>House Share</td>\n",
       "      <td>5</td>\n",
       "      <td>5</td>\n",
       "      <td>4950000.0</td>\n",
       "    </tr>\n",
       "    <tr>\n",
       "      <th>2</th>\n",
       "      <td>Fairmont, Edwalton</td>\n",
       "      <td>Detached</td>\n",
       "      <td>5</td>\n",
       "      <td>5</td>\n",
       "      <td>3700000.0</td>\n",
       "    </tr>\n",
       "    <tr>\n",
       "      <th>3</th>\n",
       "      <td>Fairmont, Edwalton</td>\n",
       "      <td>Detached</td>\n",
       "      <td>5</td>\n",
       "      <td>5</td>\n",
       "      <td>3700000.0</td>\n",
       "    </tr>\n",
       "    <tr>\n",
       "      <th>4</th>\n",
       "      <td>North Sherwood street, Nottingham</td>\n",
       "      <td>House Share</td>\n",
       "      <td>4</td>\n",
       "      <td>4</td>\n",
       "      <td>3600000.0</td>\n",
       "    </tr>\n",
       "  </tbody>\n",
       "</table>\n",
       "</div>"
      ],
      "text/plain": [
       "                                        address   house_type bedrooms  \\\n",
       "0  Upper Parliament Street, Nottingham, NG1 2AP         Flat        1   \n",
       "1       STUDENT PROPERTY NOTTINGHAM CITY CENTER  House Share        5   \n",
       "2                            Fairmont, Edwalton     Detached        5   \n",
       "3                            Fairmont, Edwalton     Detached        5   \n",
       "4             North Sherwood street, Nottingham  House Share        4   \n",
       "\n",
       "  bathrooms  guide_price  \n",
       "0         1      75000.0  \n",
       "1         5    4950000.0  \n",
       "2         5    3700000.0  \n",
       "3         5    3700000.0  \n",
       "4         4    3600000.0  "
      ]
     },
     "execution_count": 49,
     "metadata": {},
     "output_type": "execute_result"
    }
   ],
   "source": [
    "data['guide_price'] = table['guide_price']\n",
    "data.head()"
   ]
  },
  {
   "cell_type": "markdown",
   "id": "452739d8",
   "metadata": {},
   "source": [
    "### This is Sexual!!"
   ]
  },
  {
   "cell_type": "code",
   "execution_count": 50,
   "id": "95fa32c3",
   "metadata": {},
   "outputs": [],
   "source": [
    "#Export the table \n",
    "data.to_csv('rightmove_data',index = False)"
   ]
  },
  {
   "cell_type": "code",
   "execution_count": 51,
   "id": "650398c9",
   "metadata": {},
   "outputs": [
    {
     "data": {
      "text/html": [
       "<div>\n",
       "<style scoped>\n",
       "    .dataframe tbody tr th:only-of-type {\n",
       "        vertical-align: middle;\n",
       "    }\n",
       "\n",
       "    .dataframe tbody tr th {\n",
       "        vertical-align: top;\n",
       "    }\n",
       "\n",
       "    .dataframe thead th {\n",
       "        text-align: right;\n",
       "    }\n",
       "</style>\n",
       "<table border=\"1\" class=\"dataframe\">\n",
       "  <thead>\n",
       "    <tr style=\"text-align: right;\">\n",
       "      <th></th>\n",
       "      <th>address</th>\n",
       "      <th>house_type</th>\n",
       "      <th>bedrooms</th>\n",
       "      <th>bathrooms</th>\n",
       "      <th>guide_price</th>\n",
       "    </tr>\n",
       "  </thead>\n",
       "  <tbody>\n",
       "    <tr>\n",
       "      <th>0</th>\n",
       "      <td>Upper Parliament Street, Nottingham, NG1 2AP</td>\n",
       "      <td>Flat</td>\n",
       "      <td>1.0</td>\n",
       "      <td>1.0</td>\n",
       "      <td>75000.0</td>\n",
       "    </tr>\n",
       "    <tr>\n",
       "      <th>1</th>\n",
       "      <td>STUDENT PROPERTY NOTTINGHAM CITY CENTER</td>\n",
       "      <td>House Share</td>\n",
       "      <td>5.0</td>\n",
       "      <td>5.0</td>\n",
       "      <td>4950000.0</td>\n",
       "    </tr>\n",
       "    <tr>\n",
       "      <th>2</th>\n",
       "      <td>Fairmont, Edwalton</td>\n",
       "      <td>Detached</td>\n",
       "      <td>5.0</td>\n",
       "      <td>5.0</td>\n",
       "      <td>3700000.0</td>\n",
       "    </tr>\n",
       "    <tr>\n",
       "      <th>3</th>\n",
       "      <td>Fairmont, Edwalton</td>\n",
       "      <td>Detached</td>\n",
       "      <td>5.0</td>\n",
       "      <td>5.0</td>\n",
       "      <td>3700000.0</td>\n",
       "    </tr>\n",
       "    <tr>\n",
       "      <th>4</th>\n",
       "      <td>North Sherwood street, Nottingham</td>\n",
       "      <td>House Share</td>\n",
       "      <td>4.0</td>\n",
       "      <td>4.0</td>\n",
       "      <td>3600000.0</td>\n",
       "    </tr>\n",
       "    <tr>\n",
       "      <th>...</th>\n",
       "      <td>...</td>\n",
       "      <td>...</td>\n",
       "      <td>...</td>\n",
       "      <td>...</td>\n",
       "      <td>...</td>\n",
       "    </tr>\n",
       "    <tr>\n",
       "      <th>1045</th>\n",
       "      <td>Wilne Road, Sawley</td>\n",
       "      <td>Cottage</td>\n",
       "      <td>3.0</td>\n",
       "      <td>3.0</td>\n",
       "      <td>325000.0</td>\n",
       "    </tr>\n",
       "    <tr>\n",
       "      <th>1046</th>\n",
       "      <td>Park Road,\\r\\nCalverton,\\r\\nNottingham,\\r\\nNG1...</td>\n",
       "      <td>Detached</td>\n",
       "      <td>4.0</td>\n",
       "      <td>4.0</td>\n",
       "      <td>324995.0</td>\n",
       "    </tr>\n",
       "    <tr>\n",
       "      <th>1047</th>\n",
       "      <td>Hampton Close, Toton</td>\n",
       "      <td>Detached Bungalow</td>\n",
       "      <td>3.0</td>\n",
       "      <td>3.0</td>\n",
       "      <td>320000.0</td>\n",
       "    </tr>\n",
       "    <tr>\n",
       "      <th>1048</th>\n",
       "      <td>(Plot 3) Block A, The Yacht Club, NG2</td>\n",
       "      <td>Apartment</td>\n",
       "      <td>2.0</td>\n",
       "      <td>2.0</td>\n",
       "      <td>320000.0</td>\n",
       "    </tr>\n",
       "    <tr>\n",
       "      <th>1049</th>\n",
       "      <td>Trowell Park Drive, Trowell</td>\n",
       "      <td>Detached</td>\n",
       "      <td>3.0</td>\n",
       "      <td>3.0</td>\n",
       "      <td>320000.0</td>\n",
       "    </tr>\n",
       "  </tbody>\n",
       "</table>\n",
       "<p>1050 rows × 5 columns</p>\n",
       "</div>"
      ],
      "text/plain": [
       "                                                address         house_type  \\\n",
       "0          Upper Parliament Street, Nottingham, NG1 2AP               Flat   \n",
       "1               STUDENT PROPERTY NOTTINGHAM CITY CENTER        House Share   \n",
       "2                                    Fairmont, Edwalton           Detached   \n",
       "3                                    Fairmont, Edwalton           Detached   \n",
       "4                     North Sherwood street, Nottingham        House Share   \n",
       "...                                                 ...                ...   \n",
       "1045                                 Wilne Road, Sawley            Cottage   \n",
       "1046  Park Road,\\r\\nCalverton,\\r\\nNottingham,\\r\\nNG1...           Detached   \n",
       "1047                               Hampton Close, Toton  Detached Bungalow   \n",
       "1048              (Plot 3) Block A, The Yacht Club, NG2          Apartment   \n",
       "1049                        Trowell Park Drive, Trowell           Detached   \n",
       "\n",
       "      bedrooms  bathrooms  guide_price  \n",
       "0          1.0        1.0      75000.0  \n",
       "1          5.0        5.0    4950000.0  \n",
       "2          5.0        5.0    3700000.0  \n",
       "3          5.0        5.0    3700000.0  \n",
       "4          4.0        4.0    3600000.0  \n",
       "...        ...        ...          ...  \n",
       "1045       3.0        3.0     325000.0  \n",
       "1046       4.0        4.0     324995.0  \n",
       "1047       3.0        3.0     320000.0  \n",
       "1048       2.0        2.0     320000.0  \n",
       "1049       3.0        3.0     320000.0  \n",
       "\n",
       "[1050 rows x 5 columns]"
      ]
     },
     "execution_count": 51,
     "metadata": {},
     "output_type": "execute_result"
    }
   ],
   "source": [
    "pd.read_csv('rightmove_data')"
   ]
  },
  {
   "cell_type": "markdown",
   "id": "68649608",
   "metadata": {},
   "source": [
    "### Data set is now created !\n",
    "- Follow up is to train a predictive model \n",
    "- Use geopandas to vizualize price and location"
   ]
  },
  {
   "cell_type": "code",
   "execution_count": null,
   "id": "ffae5cd6",
   "metadata": {},
   "outputs": [],
   "source": []
  }
 ],
 "metadata": {
  "kernelspec": {
   "display_name": "Python 3 (ipykernel)",
   "language": "python",
   "name": "python3"
  },
  "language_info": {
   "codemirror_mode": {
    "name": "ipython",
    "version": 3
   },
   "file_extension": ".py",
   "mimetype": "text/x-python",
   "name": "python",
   "nbconvert_exporter": "python",
   "pygments_lexer": "ipython3",
   "version": "3.9.12"
  }
 },
 "nbformat": 4,
 "nbformat_minor": 5
}
