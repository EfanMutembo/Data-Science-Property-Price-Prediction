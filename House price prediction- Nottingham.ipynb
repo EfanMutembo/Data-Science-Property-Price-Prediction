{
 "cells": [
  {
   "cell_type": "markdown",
   "id": "76f195a9",
   "metadata": {},
   "source": [
    "# House price prediction- Nottingham\n",
    "Goal: Predict the guide price of houses listed on rightmove in nottingham\n",
    "\n",
    "Objective: Use a Linear regression model to help predict"
   ]
  },
  {
   "cell_type": "code",
   "execution_count": 1,
   "id": "eaa44684",
   "metadata": {},
   "outputs": [],
   "source": [
    "import pandas as pd\n",
    "import matplotlib.pyplot as plt\n",
    "import numpy as np\n",
    "import seaborn as sns"
   ]
  },
  {
   "cell_type": "markdown",
   "id": "daa4192c",
   "metadata": {},
   "source": [
    "1. Understanding the data\n",
    "\n",
    "1.1 Understand the statistice of the data\n",
    "\n",
    "2. Preprocess the data \n",
    "- Create a pipeline to fit numerous transformers\n",
    "\n",
    "3. Fit a model\n",
    "\n",
    "3.1 Grid search for the best params\n",
    "\n",
    "3.2 Train model with new parameters and get MAE\n",
    "\n",
    "3.3 Publish results"
   ]
  },
  {
   "cell_type": "markdown",
   "id": "aa1e4afe",
   "metadata": {},
   "source": [
    "### 1. Understanding the data"
   ]
  },
  {
   "cell_type": "code",
   "execution_count": 2,
   "id": "220f69ff",
   "metadata": {
    "scrolled": false
   },
   "outputs": [
    {
     "data": {
      "text/html": [
       "<div>\n",
       "<style scoped>\n",
       "    .dataframe tbody tr th:only-of-type {\n",
       "        vertical-align: middle;\n",
       "    }\n",
       "\n",
       "    .dataframe tbody tr th {\n",
       "        vertical-align: top;\n",
       "    }\n",
       "\n",
       "    .dataframe thead th {\n",
       "        text-align: right;\n",
       "    }\n",
       "</style>\n",
       "<table border=\"1\" class=\"dataframe\">\n",
       "  <thead>\n",
       "    <tr style=\"text-align: right;\">\n",
       "      <th></th>\n",
       "      <th>address</th>\n",
       "      <th>house_type</th>\n",
       "      <th>bedrooms</th>\n",
       "      <th>bathrooms</th>\n",
       "      <th>guide_price</th>\n",
       "    </tr>\n",
       "  </thead>\n",
       "  <tbody>\n",
       "    <tr>\n",
       "      <th>0</th>\n",
       "      <td>Upper Parliament Street, Nottingham, NG1 2AP</td>\n",
       "      <td>Flat</td>\n",
       "      <td>1.0</td>\n",
       "      <td>1.0</td>\n",
       "      <td>75000.0</td>\n",
       "    </tr>\n",
       "    <tr>\n",
       "      <th>1</th>\n",
       "      <td>STUDENT PROPERTY NOTTINGHAM CITY CENTER</td>\n",
       "      <td>House Share</td>\n",
       "      <td>5.0</td>\n",
       "      <td>5.0</td>\n",
       "      <td>4950000.0</td>\n",
       "    </tr>\n",
       "    <tr>\n",
       "      <th>2</th>\n",
       "      <td>Fairmont, Edwalton</td>\n",
       "      <td>Detached</td>\n",
       "      <td>5.0</td>\n",
       "      <td>5.0</td>\n",
       "      <td>3700000.0</td>\n",
       "    </tr>\n",
       "    <tr>\n",
       "      <th>3</th>\n",
       "      <td>Fairmont, Edwalton</td>\n",
       "      <td>Detached</td>\n",
       "      <td>5.0</td>\n",
       "      <td>5.0</td>\n",
       "      <td>3700000.0</td>\n",
       "    </tr>\n",
       "    <tr>\n",
       "      <th>4</th>\n",
       "      <td>North Sherwood street, Nottingham</td>\n",
       "      <td>House Share</td>\n",
       "      <td>4.0</td>\n",
       "      <td>4.0</td>\n",
       "      <td>3600000.0</td>\n",
       "    </tr>\n",
       "  </tbody>\n",
       "</table>\n",
       "</div>"
      ],
      "text/plain": [
       "                                        address   house_type  bedrooms  \\\n",
       "0  Upper Parliament Street, Nottingham, NG1 2AP         Flat       1.0   \n",
       "1       STUDENT PROPERTY NOTTINGHAM CITY CENTER  House Share       5.0   \n",
       "2                            Fairmont, Edwalton     Detached       5.0   \n",
       "3                            Fairmont, Edwalton     Detached       5.0   \n",
       "4             North Sherwood street, Nottingham  House Share       4.0   \n",
       "\n",
       "   bathrooms  guide_price  \n",
       "0        1.0      75000.0  \n",
       "1        5.0    4950000.0  \n",
       "2        5.0    3700000.0  \n",
       "3        5.0    3700000.0  \n",
       "4        4.0    3600000.0  "
      ]
     },
     "execution_count": 2,
     "metadata": {},
     "output_type": "execute_result"
    }
   ],
   "source": [
    "df = pd.read_csv('rightmove_data')\n",
    "df.head()"
   ]
  },
  {
   "cell_type": "code",
   "execution_count": 3,
   "id": "baafafa2",
   "metadata": {},
   "outputs": [
    {
     "data": {
      "text/html": [
       "<div>\n",
       "<style scoped>\n",
       "    .dataframe tbody tr th:only-of-type {\n",
       "        vertical-align: middle;\n",
       "    }\n",
       "\n",
       "    .dataframe tbody tr th {\n",
       "        vertical-align: top;\n",
       "    }\n",
       "\n",
       "    .dataframe thead th {\n",
       "        text-align: right;\n",
       "    }\n",
       "</style>\n",
       "<table border=\"1\" class=\"dataframe\">\n",
       "  <thead>\n",
       "    <tr style=\"text-align: right;\">\n",
       "      <th></th>\n",
       "      <th>address</th>\n",
       "      <th>house_type</th>\n",
       "      <th>bedrooms</th>\n",
       "      <th>bathrooms</th>\n",
       "      <th>guide_price</th>\n",
       "    </tr>\n",
       "  </thead>\n",
       "  <tbody>\n",
       "    <tr>\n",
       "      <th>0</th>\n",
       "      <td>Upper Parliament Street, Nottingham, NG1 2AP</td>\n",
       "      <td>Flat</td>\n",
       "      <td>1.0</td>\n",
       "      <td>1.0</td>\n",
       "      <td>75000.0</td>\n",
       "    </tr>\n",
       "    <tr>\n",
       "      <th>1</th>\n",
       "      <td>STUDENT PROPERTY NOTTINGHAM CITY CENTER</td>\n",
       "      <td>House Share</td>\n",
       "      <td>5.0</td>\n",
       "      <td>5.0</td>\n",
       "      <td>4950000.0</td>\n",
       "    </tr>\n",
       "    <tr>\n",
       "      <th>2</th>\n",
       "      <td>Fairmont, Edwalton</td>\n",
       "      <td>Detached</td>\n",
       "      <td>5.0</td>\n",
       "      <td>5.0</td>\n",
       "      <td>3700000.0</td>\n",
       "    </tr>\n",
       "    <tr>\n",
       "      <th>3</th>\n",
       "      <td>Fairmont, Edwalton</td>\n",
       "      <td>Detached</td>\n",
       "      <td>5.0</td>\n",
       "      <td>5.0</td>\n",
       "      <td>3700000.0</td>\n",
       "    </tr>\n",
       "    <tr>\n",
       "      <th>4</th>\n",
       "      <td>North Sherwood street, Nottingham</td>\n",
       "      <td>House Share</td>\n",
       "      <td>4.0</td>\n",
       "      <td>4.0</td>\n",
       "      <td>3600000.0</td>\n",
       "    </tr>\n",
       "    <tr>\n",
       "      <th>...</th>\n",
       "      <td>...</td>\n",
       "      <td>...</td>\n",
       "      <td>...</td>\n",
       "      <td>...</td>\n",
       "      <td>...</td>\n",
       "    </tr>\n",
       "    <tr>\n",
       "      <th>1045</th>\n",
       "      <td>Wilne Road, Sawley</td>\n",
       "      <td>Cottage</td>\n",
       "      <td>3.0</td>\n",
       "      <td>3.0</td>\n",
       "      <td>325000.0</td>\n",
       "    </tr>\n",
       "    <tr>\n",
       "      <th>1046</th>\n",
       "      <td>Park Road,\\r\\nCalverton,\\r\\nNottingham,\\r\\nNG1...</td>\n",
       "      <td>Detached</td>\n",
       "      <td>4.0</td>\n",
       "      <td>4.0</td>\n",
       "      <td>324995.0</td>\n",
       "    </tr>\n",
       "    <tr>\n",
       "      <th>1047</th>\n",
       "      <td>Hampton Close, Toton</td>\n",
       "      <td>Detached Bungalow</td>\n",
       "      <td>3.0</td>\n",
       "      <td>3.0</td>\n",
       "      <td>320000.0</td>\n",
       "    </tr>\n",
       "    <tr>\n",
       "      <th>1048</th>\n",
       "      <td>(Plot 3) Block A, The Yacht Club, NG2</td>\n",
       "      <td>Apartment</td>\n",
       "      <td>2.0</td>\n",
       "      <td>2.0</td>\n",
       "      <td>320000.0</td>\n",
       "    </tr>\n",
       "    <tr>\n",
       "      <th>1049</th>\n",
       "      <td>Trowell Park Drive, Trowell</td>\n",
       "      <td>Detached</td>\n",
       "      <td>3.0</td>\n",
       "      <td>3.0</td>\n",
       "      <td>320000.0</td>\n",
       "    </tr>\n",
       "  </tbody>\n",
       "</table>\n",
       "<p>1050 rows × 5 columns</p>\n",
       "</div>"
      ],
      "text/plain": [
       "                                                address         house_type  \\\n",
       "0          Upper Parliament Street, Nottingham, NG1 2AP               Flat   \n",
       "1               STUDENT PROPERTY NOTTINGHAM CITY CENTER        House Share   \n",
       "2                                    Fairmont, Edwalton           Detached   \n",
       "3                                    Fairmont, Edwalton           Detached   \n",
       "4                     North Sherwood street, Nottingham        House Share   \n",
       "...                                                 ...                ...   \n",
       "1045                                 Wilne Road, Sawley            Cottage   \n",
       "1046  Park Road,\\r\\nCalverton,\\r\\nNottingham,\\r\\nNG1...           Detached   \n",
       "1047                               Hampton Close, Toton  Detached Bungalow   \n",
       "1048              (Plot 3) Block A, The Yacht Club, NG2          Apartment   \n",
       "1049                        Trowell Park Drive, Trowell           Detached   \n",
       "\n",
       "      bedrooms  bathrooms  guide_price  \n",
       "0          1.0        1.0      75000.0  \n",
       "1          5.0        5.0    4950000.0  \n",
       "2          5.0        5.0    3700000.0  \n",
       "3          5.0        5.0    3700000.0  \n",
       "4          4.0        4.0    3600000.0  \n",
       "...        ...        ...          ...  \n",
       "1045       3.0        3.0     325000.0  \n",
       "1046       4.0        4.0     324995.0  \n",
       "1047       3.0        3.0     320000.0  \n",
       "1048       2.0        2.0     320000.0  \n",
       "1049       3.0        3.0     320000.0  \n",
       "\n",
       "[1050 rows x 5 columns]"
      ]
     },
     "execution_count": 3,
     "metadata": {},
     "output_type": "execute_result"
    }
   ],
   "source": [
    "df"
   ]
  },
  {
   "cell_type": "code",
   "execution_count": 4,
   "id": "8d896b52",
   "metadata": {},
   "outputs": [
    {
     "data": {
      "text/plain": [
       "address         0\n",
       "house_type      0\n",
       "bedrooms       27\n",
       "bathrooms      27\n",
       "guide_price     2\n",
       "dtype: int64"
      ]
     },
     "execution_count": 4,
     "metadata": {},
     "output_type": "execute_result"
    }
   ],
   "source": [
    "#where are the null values\n",
    "df.isnull().sum()\n",
    "\n",
    "# the na vals in guide price are POA values"
   ]
  },
  {
   "cell_type": "code",
   "execution_count": 5,
   "id": "ccd168f5",
   "metadata": {
    "scrolled": true
   },
   "outputs": [
    {
     "data": {
      "text/html": [
       "<div>\n",
       "<style scoped>\n",
       "    .dataframe tbody tr th:only-of-type {\n",
       "        vertical-align: middle;\n",
       "    }\n",
       "\n",
       "    .dataframe tbody tr th {\n",
       "        vertical-align: top;\n",
       "    }\n",
       "\n",
       "    .dataframe thead th {\n",
       "        text-align: right;\n",
       "    }\n",
       "</style>\n",
       "<table border=\"1\" class=\"dataframe\">\n",
       "  <thead>\n",
       "    <tr style=\"text-align: right;\">\n",
       "      <th></th>\n",
       "      <th>bedrooms</th>\n",
       "      <th>bathrooms</th>\n",
       "      <th>guide_price</th>\n",
       "    </tr>\n",
       "  </thead>\n",
       "  <tbody>\n",
       "    <tr>\n",
       "      <th>count</th>\n",
       "      <td>1023.000000</td>\n",
       "      <td>1023.000000</td>\n",
       "      <td>1.048000e+03</td>\n",
       "    </tr>\n",
       "    <tr>\n",
       "      <th>mean</th>\n",
       "      <td>3.782014</td>\n",
       "      <td>3.782014</td>\n",
       "      <td>5.102442e+05</td>\n",
       "    </tr>\n",
       "    <tr>\n",
       "      <th>std</th>\n",
       "      <td>1.077428</td>\n",
       "      <td>1.077428</td>\n",
       "      <td>3.272602e+05</td>\n",
       "    </tr>\n",
       "    <tr>\n",
       "      <th>min</th>\n",
       "      <td>1.000000</td>\n",
       "      <td>1.000000</td>\n",
       "      <td>7.500000e+04</td>\n",
       "    </tr>\n",
       "    <tr>\n",
       "      <th>25%</th>\n",
       "      <td>3.000000</td>\n",
       "      <td>3.000000</td>\n",
       "      <td>3.500000e+05</td>\n",
       "    </tr>\n",
       "    <tr>\n",
       "      <th>50%</th>\n",
       "      <td>4.000000</td>\n",
       "      <td>4.000000</td>\n",
       "      <td>4.250000e+05</td>\n",
       "    </tr>\n",
       "    <tr>\n",
       "      <th>75%</th>\n",
       "      <td>4.000000</td>\n",
       "      <td>4.000000</td>\n",
       "      <td>5.500000e+05</td>\n",
       "    </tr>\n",
       "    <tr>\n",
       "      <th>max</th>\n",
       "      <td>9.000000</td>\n",
       "      <td>9.000000</td>\n",
       "      <td>4.950000e+06</td>\n",
       "    </tr>\n",
       "  </tbody>\n",
       "</table>\n",
       "</div>"
      ],
      "text/plain": [
       "          bedrooms    bathrooms   guide_price\n",
       "count  1023.000000  1023.000000  1.048000e+03\n",
       "mean      3.782014     3.782014  5.102442e+05\n",
       "std       1.077428     1.077428  3.272602e+05\n",
       "min       1.000000     1.000000  7.500000e+04\n",
       "25%       3.000000     3.000000  3.500000e+05\n",
       "50%       4.000000     4.000000  4.250000e+05\n",
       "75%       4.000000     4.000000  5.500000e+05\n",
       "max       9.000000     9.000000  4.950000e+06"
      ]
     },
     "execution_count": 5,
     "metadata": {},
     "output_type": "execute_result"
    }
   ],
   "source": [
    "df.describe()"
   ]
  },
  {
   "cell_type": "code",
   "execution_count": 6,
   "id": "11a0089d",
   "metadata": {},
   "outputs": [
    {
     "data": {
      "image/png": "[encoded data removed]",
      "text/plain": [
       "<Figure size 1008x720 with 1 Axes>"
      ]
     },
     "metadata": {
      "needs_background": "light"
     },
     "output_type": "display_data"
    }
   ],
   "source": [
    "# Lok into skewed data\n",
    "\n",
    "df_num = df.drop(['address','house_type'],axis = 1)\n",
    "\n",
    "fig,ax = plt.subplots(figsize=(14,10))\n",
    "ax.set_xlabel(\"\")\n",
    "ax.set_ylabel(\"guide_price\")\n",
    "\n",
    "melt_df = pd.melt(df_num)\n",
    "melt_df.head()\n",
    "\n",
    "ax = sns.boxplot(x='variable',y= 'value',data = melt_df)"
   ]
  },
  {
   "cell_type": "markdown",
   "id": "eb14782b",
   "metadata": {},
   "source": [
    "### 2. Preprocess the data\n",
    "- Null values\n",
    "-Ordinal encoding"
   ]
  },
  {
   "cell_type": "code",
   "execution_count": 7,
   "id": "930a0c76",
   "metadata": {},
   "outputs": [],
   "source": [
    "#seperate the label\n",
    "df = df.dropna(subset='guide_price')\n",
    "X,y = (df.drop(['guide_price','address'],axis =1),df['guide_price'])"
   ]
  },
  {
   "cell_type": "code",
   "execution_count": 8,
   "id": "2d9aad69",
   "metadata": {},
   "outputs": [],
   "source": [
    "from sklearn.impute import SimpleImputer\n",
    "from sklearn.preprocessing import OrdinalEncoder\n",
    "from sklearn.compose import make_column_transformer\n",
    "from sklearn.pipeline import Pipeline"
   ]
  },
  {
   "cell_type": "code",
   "execution_count": 9,
   "id": "824f215d",
   "metadata": {},
   "outputs": [],
   "source": [
    "#make a simple imputer\n",
    "imp = SimpleImputer(missing_values = np.nan,strategy = 'median',add_indicator = True)"
   ]
  },
  {
   "cell_type": "code",
   "execution_count": 10,
   "id": "89894f86",
   "metadata": {},
   "outputs": [],
   "source": [
    "# Make a column transformer for the ordinal encoder\n",
    "\n",
    "#Create OHE object\n",
    "oc = OrdinalEncoder()\n",
    "#get categorical columns\n",
    "df_cat = [i for i in X.columns if df[i].dtype == 'O']\n",
    "\n",
    "#Make a column transformer\n",
    "column_transformer = make_column_transformer(\n",
    "    (oc,df_cat),\n",
    "    remainder = 'passthrough'\n",
    "\n",
    ")"
   ]
  },
  {
   "cell_type": "code",
   "execution_count": 11,
   "id": "c8fdd9a2",
   "metadata": {},
   "outputs": [],
   "source": [
    "# Add the transformers to a pipeline\n",
    "\n",
    "pipe = Pipeline(\n",
    "[\n",
    "    ('col_trans',column_transformer),\n",
    "    ('imputer', imp)\n",
    "    \n",
    "])"
   ]
  },
  {
   "cell_type": "code",
   "execution_count": 12,
   "id": "bc6afcbc",
   "metadata": {
    "scrolled": true
   },
   "outputs": [],
   "source": [
    "# fit pipeline to data\n",
    "\n",
    "transformed_data = pipe.fit_transform(X)\n",
    "\n",
    "#create new df\n",
    "transformed_df = pd.DataFrame(transformed_data )\n",
    "transformed_df = transformed_df.drop([3,4],axis=1)\n",
    "transformed_df = transformed_df.rename(columns ={0:'house_type',1:'bedrooms',2:'bathrooms'})"
   ]
  },
  {
   "cell_type": "code",
   "execution_count": 13,
   "id": "d4c2d040",
   "metadata": {},
   "outputs": [
    {
     "data": {
      "text/html": [
       "<div>\n",
       "<style scoped>\n",
       "    .dataframe tbody tr th:only-of-type {\n",
       "        vertical-align: middle;\n",
       "    }\n",
       "\n",
       "    .dataframe tbody tr th {\n",
       "        vertical-align: top;\n",
       "    }\n",
       "\n",
       "    .dataframe thead th {\n",
       "        text-align: right;\n",
       "    }\n",
       "</style>\n",
       "<table border=\"1\" class=\"dataframe\">\n",
       "  <thead>\n",
       "    <tr style=\"text-align: right;\">\n",
       "      <th></th>\n",
       "      <th>house_type</th>\n",
       "      <th>bedrooms</th>\n",
       "      <th>bathrooms</th>\n",
       "    </tr>\n",
       "  </thead>\n",
       "  <tbody>\n",
       "    <tr>\n",
       "      <th>0</th>\n",
       "      <td>10.0</td>\n",
       "      <td>1.0</td>\n",
       "      <td>1.0</td>\n",
       "    </tr>\n",
       "    <tr>\n",
       "      <th>1</th>\n",
       "      <td>13.0</td>\n",
       "      <td>5.0</td>\n",
       "      <td>5.0</td>\n",
       "    </tr>\n",
       "    <tr>\n",
       "      <th>2</th>\n",
       "      <td>7.0</td>\n",
       "      <td>5.0</td>\n",
       "      <td>5.0</td>\n",
       "    </tr>\n",
       "    <tr>\n",
       "      <th>3</th>\n",
       "      <td>7.0</td>\n",
       "      <td>5.0</td>\n",
       "      <td>5.0</td>\n",
       "    </tr>\n",
       "    <tr>\n",
       "      <th>4</th>\n",
       "      <td>13.0</td>\n",
       "      <td>4.0</td>\n",
       "      <td>4.0</td>\n",
       "    </tr>\n",
       "    <tr>\n",
       "      <th>...</th>\n",
       "      <td>...</td>\n",
       "      <td>...</td>\n",
       "      <td>...</td>\n",
       "    </tr>\n",
       "    <tr>\n",
       "      <th>1043</th>\n",
       "      <td>6.0</td>\n",
       "      <td>3.0</td>\n",
       "      <td>3.0</td>\n",
       "    </tr>\n",
       "    <tr>\n",
       "      <th>1044</th>\n",
       "      <td>7.0</td>\n",
       "      <td>4.0</td>\n",
       "      <td>4.0</td>\n",
       "    </tr>\n",
       "    <tr>\n",
       "      <th>1045</th>\n",
       "      <td>8.0</td>\n",
       "      <td>3.0</td>\n",
       "      <td>3.0</td>\n",
       "    </tr>\n",
       "    <tr>\n",
       "      <th>1046</th>\n",
       "      <td>0.0</td>\n",
       "      <td>2.0</td>\n",
       "      <td>2.0</td>\n",
       "    </tr>\n",
       "    <tr>\n",
       "      <th>1047</th>\n",
       "      <td>7.0</td>\n",
       "      <td>3.0</td>\n",
       "      <td>3.0</td>\n",
       "    </tr>\n",
       "  </tbody>\n",
       "</table>\n",
       "<p>1048 rows × 3 columns</p>\n",
       "</div>"
      ],
      "text/plain": [
       "      house_type  bedrooms  bathrooms\n",
       "0           10.0       1.0        1.0\n",
       "1           13.0       5.0        5.0\n",
       "2            7.0       5.0        5.0\n",
       "3            7.0       5.0        5.0\n",
       "4           13.0       4.0        4.0\n",
       "...          ...       ...        ...\n",
       "1043         6.0       3.0        3.0\n",
       "1044         7.0       4.0        4.0\n",
       "1045         8.0       3.0        3.0\n",
       "1046         0.0       2.0        2.0\n",
       "1047         7.0       3.0        3.0\n",
       "\n",
       "[1048 rows x 3 columns]"
      ]
     },
     "execution_count": 13,
     "metadata": {},
     "output_type": "execute_result"
    }
   ],
   "source": [
    "transformed_df"
   ]
  },
  {
   "cell_type": "markdown",
   "id": "999a4121",
   "metadata": {},
   "source": [
    "### 3. Fit a Model\n",
    "\n",
    "- Fit diferent models\n",
    "- Grid search the best performing model"
   ]
  },
  {
   "cell_type": "code",
   "execution_count": 14,
   "id": "8b1b4baa",
   "metadata": {},
   "outputs": [],
   "source": [
    "from sklearn.model_selection import train_test_split\n",
    "from sklearn.metrics import mean_absolute_error\n",
    "\n",
    "#impor models\n",
    "from sklearn.ensemble import GradientBoostingRegressor\n",
    "from sklearn.svm import SVR\n",
    "from sklearn.linear_model import LinearRegression\n",
    "\n",
    "from sklearn.model_selection import GridSearchCV"
   ]
  },
  {
   "cell_type": "code",
   "execution_count": 15,
   "id": "e885ab64",
   "metadata": {},
   "outputs": [],
   "source": [
    "# Train test split\n",
    "X_train,X_test,y_train,y_test = train_test_split(transformed_df,y,random_state = 40)"
   ]
  },
  {
   "cell_type": "code",
   "execution_count": 16,
   "id": "2de8547c",
   "metadata": {},
   "outputs": [],
   "source": [
    "# Define model object\n",
    "lr = LinearRegression()\n",
    "\n",
    "#fit and train model\n",
    "lr.fit(X_train,y_train)\n",
    "y_pred = lr.predict(X_test)"
   ]
  },
  {
   "cell_type": "code",
   "execution_count": 17,
   "id": "ca98f4f8",
   "metadata": {},
   "outputs": [
    {
     "data": {
      "text/plain": [
       "'£176,736.28415941139'"
      ]
     },
     "execution_count": 17,
     "metadata": {},
     "output_type": "execute_result"
    }
   ],
   "source": [
    "# Score the model\n",
    "mae = mean_absolute_error(y_test,y_pred)\n",
    "f'£{mae:,}' "
   ]
  },
  {
   "cell_type": "code",
   "execution_count": 18,
   "id": "7d891f5c",
   "metadata": {},
   "outputs": [],
   "source": [
    "def fit_models():\n",
    "    '''\n",
    "    This function will fit diferent models to the training data and produce the score of each model\n",
    "    \n",
    "    '''\n",
    "    \n",
    "    \n",
    "    # Initialize the models\n",
    "    \n",
    "    lr = LinearRegression()\n",
    "    xgb = GradientBoostingRegressor()\n",
    "    svr = SVR()\n",
    "    models = [lr,xgb,svr]\n",
    "\n",
    "    #loop through the models train and predict on all\n",
    "    \n",
    "    scores = []\n",
    "    for i in models:\n",
    "        i.fit(X_train,y_train)\n",
    "        y_pred = i.predict(X_test)\n",
    "        \n",
    "        mae = mae = mean_absolute_error(y_test,y_pred)\n",
    "        scores.append(f\"{i}: {f'£{mae:,}'}\")\n",
    "    \n",
    "    return scores,xgb"
   ]
  },
  {
   "cell_type": "code",
   "execution_count": 19,
   "id": "96b31f00",
   "metadata": {},
   "outputs": [],
   "source": [
    "scores,xgb = fit_models()"
   ]
  },
  {
   "cell_type": "code",
   "execution_count": 20,
   "id": "514575b7",
   "metadata": {},
   "outputs": [
    {
     "data": {
      "text/plain": [
       "['LinearRegression(): £176,736.28415941139',\n",
       " 'GradientBoostingRegressor(): £162,625.05155240712',\n",
       " 'SVR(): £188,280.13324615156']"
      ]
     },
     "execution_count": 20,
     "metadata": {},
     "output_type": "execute_result"
    }
   ],
   "source": [
    "scores"
   ]
  },
  {
   "cell_type": "markdown",
   "id": "9dd63655",
   "metadata": {},
   "source": [
    "### 3.1\n",
    "Gradient Boosting Regressor has the best mae so we will grid search for the best parameters"
   ]
  },
  {
   "cell_type": "code",
   "execution_count": 56,
   "id": "c9764199",
   "metadata": {},
   "outputs": [
    {
     "data": {
      "text/plain": [
       "GridSearchCV(error_score='raise', estimator=GradientBoostingRegressor(),\n",
       "             param_grid={'learning_rate': [0.04, 0.06, 0.08, 0.1, 0.2, 0.3, 0.4,\n",
       "                                           0.5, 0.55],\n",
       "                         'n_estimators': [50, 100, 150, 200, 250, 300, 350, 400,\n",
       "                                          450, 500]})"
      ]
     },
     "execution_count": 56,
     "metadata": {},
     "output_type": "execute_result"
    }
   ],
   "source": [
    "learning_rate_params = np.linspace(0.9,2,10).astype(int).tolist()\n",
    "n_estimators_params = np.linspace(50,500,10).astype(int).tolist()\n",
    "\n",
    "param_grid ={'learning_rate':[0.04,0.06,0.08,0.1,0.2,0.3,0.4,0.5,0.55],\n",
    "            'n_estimators':n_estimators_params}\n",
    "\n",
    "gs = GridSearchCV(xgb,param_grid,error_score='raise')\n",
    "gs.fit(X_train,y_train)"
   ]
  },
  {
   "cell_type": "code",
   "execution_count": 46,
   "id": "22865e2b",
   "metadata": {},
   "outputs": [
    {
     "data": {
      "text/plain": [
       "{'learning_rate': 0.02, 'n_estimators': 100}"
      ]
     },
     "execution_count": 46,
     "metadata": {},
     "output_type": "execute_result"
    }
   ],
   "source": [
    "gs.best_params_\n"
   ]
  },
  {
   "cell_type": "code",
   "execution_count": 49,
   "id": "9c84a06b",
   "metadata": {},
   "outputs": [],
   "source": [
    "xgb_reg = gs.best_estimator_"
   ]
  },
  {
   "cell_type": "markdown",
   "id": "80e1cdeb",
   "metadata": {},
   "source": [
    "### 3.2\n",
    "Train and predict with the best model "
   ]
  },
  {
   "cell_type": "code",
   "execution_count": 57,
   "id": "6d629b26",
   "metadata": {},
   "outputs": [
    {
     "data": {
      "text/plain": [
       "'XGB Regressor : £166,294.07084187973'"
      ]
     },
     "execution_count": 57,
     "metadata": {},
     "output_type": "execute_result"
    }
   ],
   "source": [
    "xgb_reg = GradientBoostingRegressor(learning_rate = 0.05,n_estimators=100)\n",
    "xgb_reg.fit(X_train,y_train)\n",
    "y_pred = xgb_reg.predict(X_test)\n",
    "        \n",
    "mae = mae = mean_absolute_error(y_test,y_pred)\n",
    "f\"XGB Regressor : {f'£{mae:,}'}\""
   ]
  },
  {
   "cell_type": "code",
   "execution_count": null,
   "id": "6671c9a4",
   "metadata": {},
   "outputs": [],
   "source": []
  },
  {
   "cell_type": "code",
   "execution_count": null,
   "id": "7e35a515",
   "metadata": {},
   "outputs": [],
   "source": []
  }
 ],
 "metadata": {
  "kernelspec": {
   "display_name": "Python 3 (ipykernel)",
   "language": "python",
   "name": "python3"
  },
  "language_info": {
   "codemirror_mode": {
    "name": "ipython",
    "version": 3
   },
   "file_extension": ".py",
   "mimetype": "text/x-python",
   "name": "python",
   "nbconvert_exporter": "python",
   "pygments_lexer": "ipython3",
   "version": "3.9.12"
  }
 },
 "nbformat": 4,
 "nbformat_minor": 5
}
